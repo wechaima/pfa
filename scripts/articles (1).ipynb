{
  "nbformat": 4,
  "nbformat_minor": 0,
  "metadata": {
    "colab": {
      "provenance": []
    },
    "kernelspec": {
      "name": "python3",
      "display_name": "Python 3"
    },
    "language_info": {
      "name": "python"
    }
  },
  "cells": [
    {
      "cell_type": "code",
      "execution_count": 1,
      "metadata": {
        "colab": {
          "base_uri": "https://localhost:8080/"
        },
        "id": "_cbfdyYvB23L",
        "outputId": "b64d2aa5-564b-4dc0-811b-c3b8132e9514"
      },
      "outputs": [
        {
          "output_type": "stream",
          "name": "stdout",
          "text": [
            "Collecting newsapi-python\n",
            "  Downloading newsapi_python-0.2.7-py2.py3-none-any.whl.metadata (1.2 kB)\n",
            "Requirement already satisfied: requests<3.0.0 in /usr/local/lib/python3.11/dist-packages (from newsapi-python) (2.32.3)\n",
            "Requirement already satisfied: charset-normalizer<4,>=2 in /usr/local/lib/python3.11/dist-packages (from requests<3.0.0->newsapi-python) (3.4.1)\n",
            "Requirement already satisfied: idna<4,>=2.5 in /usr/local/lib/python3.11/dist-packages (from requests<3.0.0->newsapi-python) (3.10)\n",
            "Requirement already satisfied: urllib3<3,>=1.21.1 in /usr/local/lib/python3.11/dist-packages (from requests<3.0.0->newsapi-python) (2.3.0)\n",
            "Requirement already satisfied: certifi>=2017.4.17 in /usr/local/lib/python3.11/dist-packages (from requests<3.0.0->newsapi-python) (2025.1.31)\n",
            "Downloading newsapi_python-0.2.7-py2.py3-none-any.whl (7.9 kB)\n",
            "Installing collected packages: newsapi-python\n",
            "Successfully installed newsapi-python-0.2.7\n",
            "Requirement already satisfied: beautifulsoup4 in /usr/local/lib/python3.11/dist-packages (4.13.3)\n",
            "Requirement already satisfied: soupsieve>1.2 in /usr/local/lib/python3.11/dist-packages (from beautifulsoup4) (2.6)\n",
            "Requirement already satisfied: typing-extensions>=4.0.0 in /usr/local/lib/python3.11/dist-packages (from beautifulsoup4) (4.13.1)\n",
            "Requirement already satisfied: requests in /usr/local/lib/python3.11/dist-packages (2.32.3)\n",
            "Requirement already satisfied: charset-normalizer<4,>=2 in /usr/local/lib/python3.11/dist-packages (from requests) (3.4.1)\n",
            "Requirement already satisfied: idna<4,>=2.5 in /usr/local/lib/python3.11/dist-packages (from requests) (3.10)\n",
            "Requirement already satisfied: urllib3<3,>=1.21.1 in /usr/local/lib/python3.11/dist-packages (from requests) (2.3.0)\n",
            "Requirement already satisfied: certifi>=2017.4.17 in /usr/local/lib/python3.11/dist-packages (from requests) (2025.1.31)\n"
          ]
        }
      ],
      "source": [
        "!pip install newsapi-python\n",
        "!pip install beautifulsoup4\n",
        "!pip install requests\n",
        "\n"
      ]
    },
    {
      "cell_type": "code",
      "source": [
        "import json\n",
        "import uuid\n",
        "import requests\n",
        "from bs4 import BeautifulSoup\n",
        "from newsapi import NewsApiClient\n",
        "\n",
        "# Fonction de scraping pour obtenir le contenu texte de l'article\n",
        "def get_article_content_scraping(url):\n",
        "    try:\n",
        "        headers = {\n",
        "            \"User-Agent\": \"Mozilla/5.0\"\n",
        "        }\n",
        "        response = requests.get(url, headers=headers, timeout=10)\n",
        "        soup = BeautifulSoup(response.content, 'html.parser')\n",
        "\n",
        "        # Essayer d'extraire le texte à partir des balises <p>\n",
        "        paragraphs = soup.find_all('p')\n",
        "        texte = \"\\n\".join([p.get_text() for p in paragraphs])\n",
        "\n",
        "        return texte if texte else \"Contenu non disponible\"\n",
        "    except Exception as e:\n",
        "        return f\"Erreur lors du scraping : {str(e)}\"\n",
        "\n",
        "# Fonction pour collecter les articles avec NewsAPI\n",
        "def collecter_articles_newsapi(domaine, mots_cles, articles_par_mot=5):\n",
        "    articles_total = []\n",
        "    urls_vues = set()\n",
        "\n",
        "    api = NewsApiClient(api_key='7f68a1a1c4d84cd59169037b4b8418ab')\n",
        "\n",
        "    for mot in mots_cles:\n",
        "        print(f\"🔍 Recherche pour : {mot}\")\n",
        "        resultats = api.get_everything(q=mot, language='en', page_size=articles_par_mot)\n",
        "\n",
        "        for article in resultats['articles']:\n",
        "            url = article.get('url')\n",
        "            if url and url not in urls_vues:\n",
        "                article_data = {\n",
        "                    \"id\": str(uuid.uuid4()),\n",
        "                    \"type\": \"article\",\n",
        "                    \"domaine\": domaine,\n",
        "                    \"titre\": article.get('title'),\n",
        "                    \"url\": url,\n",
        "                    \"description\": article.get('description', \"\"),\n",
        "                    \"source\": article.get('source', {}).get('name'),\n",
        "                    \"author\": article.get('author', \"Inconnu\"),\n",
        "                    \"date_pub\": article.get('publishedAt', \"Non spécifiée\"),\n",
        "                    \"contenu\": get_article_content_scraping(url)\n",
        "                }\n",
        "                articles_total.append(article_data)\n",
        "                urls_vues.add(url)\n",
        "\n",
        "    return articles_total\n",
        "\n",
        "# Mots-clés par domaine\n",
        "mots_cles_math = [\"algebra\", \"calculus\"]\n",
        "mots_cles_science = [\"physics\", \"chemistry\"]\n",
        "mots_cles_eng = [\"mechanical engineering\", \"electrical engineering\"]\n",
        "mots_cles_tech = [\"technology\", \"data science\"]\n",
        "\n",
        "# Collecter 20 à 30 articles par domaine (5 mots x 5-6 articles)\n",
        "articles_math = collecter_articles_newsapi(\"mathematics\", mots_cles_math, articles_par_mot=10)\n",
        "articles_science = collecter_articles_newsapi(\"science\", mots_cles_science, articles_par_mot=10)\n",
        "articles_eng = collecter_articles_newsapi(\"engineering\", mots_cles_eng, articles_par_mot=10)\n",
        "articles_tech = collecter_articles_newsapi(\"technology\", mots_cles_tech, articles_par_mot=10)\n",
        "\n",
        "# Sauvegarde dans des fichiers JSON\n",
        "with open(\"articles_math.json\", \"w\", encoding=\"utf-8\") as f:\n",
        "    json.dump(articles_math, f, indent=2, ensure_ascii=False)\n",
        "\n",
        "with open(\"articles_science.json\", \"w\", encoding=\"utf-8\") as f:\n",
        "    json.dump(articles_science, f, indent=2, ensure_ascii=False)\n",
        "\n",
        "with open(\"articles_eng.json\", \"w\", encoding=\"utf-8\") as f:\n",
        "    json.dump(articles_eng, f, indent=2, ensure_ascii=False)\n",
        "\n",
        "with open(\"articles_tech.json\", \"w\", encoding=\"utf-8\") as f:\n",
        "    json.dump(articles_tech, f, indent=2, ensure_ascii=False)\n",
        "\n",
        "print(\"✅ Articles collectés et enregistrés avec succès !\")\n"
      ],
      "metadata": {
        "colab": {
          "base_uri": "https://localhost:8080/"
        },
        "id": "-Ccw_b4DDeW6",
        "outputId": "1d952e82-c33b-4584-f387-b4effab144b2"
      },
      "execution_count": 2,
      "outputs": [
        {
          "output_type": "stream",
          "name": "stdout",
          "text": [
            "🔍 Recherche pour : algebra\n",
            "🔍 Recherche pour : calculus\n",
            "🔍 Recherche pour : physics\n",
            "🔍 Recherche pour : chemistry\n",
            "🔍 Recherche pour : mechanical engineering\n",
            "🔍 Recherche pour : electrical engineering\n",
            "🔍 Recherche pour : technology\n",
            "🔍 Recherche pour : data science\n",
            "✅ Articles collectés et enregistrés avec succès !\n"
          ]
        }
      ]
    },
    {
      "cell_type": "code",
      "source": [
        "from google.colab import files\n",
        "import json\n",
        "\n",
        "# Sauvegarder les articles dans des fichiers JSON\n",
        "with open(\"articles_math.json\", \"w\", encoding=\"utf-8\") as f:\n",
        "    json.dump(articles_math, f, indent=2, ensure_ascii=False)\n",
        "\n",
        "with open(\"articles_science.json\", \"w\", encoding=\"utf-8\") as f:\n",
        "    json.dump(articles_science, f, indent=2, ensure_ascii=False)\n",
        "\n",
        "with open(\"articles_eng.json\", \"w\", encoding=\"utf-8\") as f:\n",
        "    json.dump(articles_eng, f, indent=2, ensure_ascii=False)\n",
        "\n",
        "with open(\"articles_tech.json\", \"w\", encoding=\"utf-8\") as f:\n",
        "    json.dump(articles_tech, f, indent=2, ensure_ascii=False)\n",
        "\n",
        "# Télécharger les fichiers générés\n",
        "files.download(\"articles_math.json\")\n",
        "files.download(\"articles_science.json\")\n",
        "files.download(\"articles_eng.json\")\n",
        "files.download(\"articles_tech.json\")\n",
        "\n"
      ],
      "metadata": {
        "colab": {
          "base_uri": "https://localhost:8080/",
          "height": 17
        },
        "id": "UlXHV0cbD5E2",
        "outputId": "bf869786-deae-4a32-c576-c38d8375d306"
      },
      "execution_count": 3,
      "outputs": [
        {
          "output_type": "display_data",
          "data": {
            "text/plain": [
              "<IPython.core.display.Javascript object>"
            ],
            "application/javascript": [
              "\n",
              "    async function download(id, filename, size) {\n",
              "      if (!google.colab.kernel.accessAllowed) {\n",
              "        return;\n",
              "      }\n",
              "      const div = document.createElement('div');\n",
              "      const label = document.createElement('label');\n",
              "      label.textContent = `Downloading \"${filename}\": `;\n",
              "      div.appendChild(label);\n",
              "      const progress = document.createElement('progress');\n",
              "      progress.max = size;\n",
              "      div.appendChild(progress);\n",
              "      document.body.appendChild(div);\n",
              "\n",
              "      const buffers = [];\n",
              "      let downloaded = 0;\n",
              "\n",
              "      const channel = await google.colab.kernel.comms.open(id);\n",
              "      // Send a message to notify the kernel that we're ready.\n",
              "      channel.send({})\n",
              "\n",
              "      for await (const message of channel.messages) {\n",
              "        // Send a message to notify the kernel that we're ready.\n",
              "        channel.send({})\n",
              "        if (message.buffers) {\n",
              "          for (const buffer of message.buffers) {\n",
              "            buffers.push(buffer);\n",
              "            downloaded += buffer.byteLength;\n",
              "            progress.value = downloaded;\n",
              "          }\n",
              "        }\n",
              "      }\n",
              "      const blob = new Blob(buffers, {type: 'application/binary'});\n",
              "      const a = document.createElement('a');\n",
              "      a.href = window.URL.createObjectURL(blob);\n",
              "      a.download = filename;\n",
              "      div.appendChild(a);\n",
              "      a.click();\n",
              "      div.remove();\n",
              "    }\n",
              "  "
            ]
          },
          "metadata": {}
        },
        {
          "output_type": "display_data",
          "data": {
            "text/plain": [
              "<IPython.core.display.Javascript object>"
            ],
            "application/javascript": [
              "download(\"download_6aecfd5e-3f41-4de9-b9f3-eacc2c99ba91\", \"articles_math.json\", 121015)"
            ]
          },
          "metadata": {}
        },
        {
          "output_type": "display_data",
          "data": {
            "text/plain": [
              "<IPython.core.display.Javascript object>"
            ],
            "application/javascript": [
              "\n",
              "    async function download(id, filename, size) {\n",
              "      if (!google.colab.kernel.accessAllowed) {\n",
              "        return;\n",
              "      }\n",
              "      const div = document.createElement('div');\n",
              "      const label = document.createElement('label');\n",
              "      label.textContent = `Downloading \"${filename}\": `;\n",
              "      div.appendChild(label);\n",
              "      const progress = document.createElement('progress');\n",
              "      progress.max = size;\n",
              "      div.appendChild(progress);\n",
              "      document.body.appendChild(div);\n",
              "\n",
              "      const buffers = [];\n",
              "      let downloaded = 0;\n",
              "\n",
              "      const channel = await google.colab.kernel.comms.open(id);\n",
              "      // Send a message to notify the kernel that we're ready.\n",
              "      channel.send({})\n",
              "\n",
              "      for await (const message of channel.messages) {\n",
              "        // Send a message to notify the kernel that we're ready.\n",
              "        channel.send({})\n",
              "        if (message.buffers) {\n",
              "          for (const buffer of message.buffers) {\n",
              "            buffers.push(buffer);\n",
              "            downloaded += buffer.byteLength;\n",
              "            progress.value = downloaded;\n",
              "          }\n",
              "        }\n",
              "      }\n",
              "      const blob = new Blob(buffers, {type: 'application/binary'});\n",
              "      const a = document.createElement('a');\n",
              "      a.href = window.URL.createObjectURL(blob);\n",
              "      a.download = filename;\n",
              "      div.appendChild(a);\n",
              "      a.click();\n",
              "      div.remove();\n",
              "    }\n",
              "  "
            ]
          },
          "metadata": {}
        },
        {
          "output_type": "display_data",
          "data": {
            "text/plain": [
              "<IPython.core.display.Javascript object>"
            ],
            "application/javascript": [
              "download(\"download_8bfcb5ad-260e-4758-b369-59db31387241\", \"articles_science.json\", 238959)"
            ]
          },
          "metadata": {}
        },
        {
          "output_type": "display_data",
          "data": {
            "text/plain": [
              "<IPython.core.display.Javascript object>"
            ],
            "application/javascript": [
              "\n",
              "    async function download(id, filename, size) {\n",
              "      if (!google.colab.kernel.accessAllowed) {\n",
              "        return;\n",
              "      }\n",
              "      const div = document.createElement('div');\n",
              "      const label = document.createElement('label');\n",
              "      label.textContent = `Downloading \"${filename}\": `;\n",
              "      div.appendChild(label);\n",
              "      const progress = document.createElement('progress');\n",
              "      progress.max = size;\n",
              "      div.appendChild(progress);\n",
              "      document.body.appendChild(div);\n",
              "\n",
              "      const buffers = [];\n",
              "      let downloaded = 0;\n",
              "\n",
              "      const channel = await google.colab.kernel.comms.open(id);\n",
              "      // Send a message to notify the kernel that we're ready.\n",
              "      channel.send({})\n",
              "\n",
              "      for await (const message of channel.messages) {\n",
              "        // Send a message to notify the kernel that we're ready.\n",
              "        channel.send({})\n",
              "        if (message.buffers) {\n",
              "          for (const buffer of message.buffers) {\n",
              "            buffers.push(buffer);\n",
              "            downloaded += buffer.byteLength;\n",
              "            progress.value = downloaded;\n",
              "          }\n",
              "        }\n",
              "      }\n",
              "      const blob = new Blob(buffers, {type: 'application/binary'});\n",
              "      const a = document.createElement('a');\n",
              "      a.href = window.URL.createObjectURL(blob);\n",
              "      a.download = filename;\n",
              "      div.appendChild(a);\n",
              "      a.click();\n",
              "      div.remove();\n",
              "    }\n",
              "  "
            ]
          },
          "metadata": {}
        },
        {
          "output_type": "display_data",
          "data": {
            "text/plain": [
              "<IPython.core.display.Javascript object>"
            ],
            "application/javascript": [
              "download(\"download_41a95d3d-3108-4006-978a-9f318a1543d9\", \"articles_eng.json\", 97709)"
            ]
          },
          "metadata": {}
        },
        {
          "output_type": "display_data",
          "data": {
            "text/plain": [
              "<IPython.core.display.Javascript object>"
            ],
            "application/javascript": [
              "\n",
              "    async function download(id, filename, size) {\n",
              "      if (!google.colab.kernel.accessAllowed) {\n",
              "        return;\n",
              "      }\n",
              "      const div = document.createElement('div');\n",
              "      const label = document.createElement('label');\n",
              "      label.textContent = `Downloading \"${filename}\": `;\n",
              "      div.appendChild(label);\n",
              "      const progress = document.createElement('progress');\n",
              "      progress.max = size;\n",
              "      div.appendChild(progress);\n",
              "      document.body.appendChild(div);\n",
              "\n",
              "      const buffers = [];\n",
              "      let downloaded = 0;\n",
              "\n",
              "      const channel = await google.colab.kernel.comms.open(id);\n",
              "      // Send a message to notify the kernel that we're ready.\n",
              "      channel.send({})\n",
              "\n",
              "      for await (const message of channel.messages) {\n",
              "        // Send a message to notify the kernel that we're ready.\n",
              "        channel.send({})\n",
              "        if (message.buffers) {\n",
              "          for (const buffer of message.buffers) {\n",
              "            buffers.push(buffer);\n",
              "            downloaded += buffer.byteLength;\n",
              "            progress.value = downloaded;\n",
              "          }\n",
              "        }\n",
              "      }\n",
              "      const blob = new Blob(buffers, {type: 'application/binary'});\n",
              "      const a = document.createElement('a');\n",
              "      a.href = window.URL.createObjectURL(blob);\n",
              "      a.download = filename;\n",
              "      div.appendChild(a);\n",
              "      a.click();\n",
              "      div.remove();\n",
              "    }\n",
              "  "
            ]
          },
          "metadata": {}
        },
        {
          "output_type": "display_data",
          "data": {
            "text/plain": [
              "<IPython.core.display.Javascript object>"
            ],
            "application/javascript": [
              "download(\"download_cf749917-57c4-4cd8-9731-cf3aa65888fc\", \"articles_tech.json\", 117726)"
            ]
          },
          "metadata": {}
        }
      ]
    }
  ]
}