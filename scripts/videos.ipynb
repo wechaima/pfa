{
  "nbformat": 4,
  "nbformat_minor": 0,
  "metadata": {
    "colab": {
      "provenance": []
    },
    "kernelspec": {
      "name": "python3",
      "display_name": "Python 3"
    },
    "language_info": {
      "name": "python"
    }
  },
  "cells": [
    {
      "cell_type": "code",
      "execution_count": 1,
      "metadata": {
        "colab": {
          "base_uri": "https://localhost:8080/",
          "height": 1000
        },
        "id": "hWkZHfXBYZ9T",
        "outputId": "687543a1-4a97-49e6-f15a-9b1bd0207b0b"
      },
      "outputs": [
        {
          "output_type": "stream",
          "name": "stdout",
          "text": [
            "Found existing installation: httpx 0.23.0\n",
            "Uninstalling httpx-0.23.0:\n",
            "  Successfully uninstalled httpx-0.23.0\n",
            "Collecting httpx==0.23.0\n",
            "  Using cached httpx-0.23.0-py3-none-any.whl.metadata (52 kB)\n",
            "Requirement already satisfied: certifi in /usr/local/lib/python3.11/dist-packages (from httpx==0.23.0) (2025.1.31)\n",
            "Requirement already satisfied: sniffio in /usr/local/lib/python3.11/dist-packages (from httpx==0.23.0) (1.3.1)\n",
            "Requirement already satisfied: rfc3986<2,>=1.3 in /usr/local/lib/python3.11/dist-packages (from rfc3986[idna2008]<2,>=1.3->httpx==0.23.0) (1.5.0)\n",
            "Requirement already satisfied: httpcore<0.16.0,>=0.15.0 in /usr/local/lib/python3.11/dist-packages (from httpx==0.23.0) (0.15.0)\n",
            "Requirement already satisfied: h11<0.13,>=0.11 in /usr/local/lib/python3.11/dist-packages (from httpcore<0.16.0,>=0.15.0->httpx==0.23.0) (0.12.0)\n",
            "Requirement already satisfied: anyio==3.* in /usr/local/lib/python3.11/dist-packages (from httpcore<0.16.0,>=0.15.0->httpx==0.23.0) (3.7.1)\n",
            "Requirement already satisfied: idna>=2.8 in /usr/local/lib/python3.11/dist-packages (from anyio==3.*->httpcore<0.16.0,>=0.15.0->httpx==0.23.0) (3.10)\n",
            "Using cached httpx-0.23.0-py3-none-any.whl (84 kB)\n",
            "Installing collected packages: httpx\n",
            "\u001b[31mERROR: pip's dependency resolver does not currently take into account all the packages that are installed. This behaviour is the source of the following dependency conflicts.\n",
            "chromadb 1.0.4 requires httpx>=0.27.0, but you have httpx 0.23.0 which is incompatible.\n",
            "google-genai 1.10.0 requires anyio<5.0.0,>=4.8.0, but you have anyio 3.7.1 which is incompatible.\n",
            "google-genai 1.10.0 requires httpx<1.0.0,>=0.28.1, but you have httpx 0.23.0 which is incompatible.\u001b[0m\u001b[31m\n",
            "\u001b[0mSuccessfully installed httpx-0.23.0\n",
            "Requirement already satisfied: youtube-search-python in /usr/local/lib/python3.11/dist-packages (1.6.6)\n",
            "Requirement already satisfied: httpx>=0.14.2 in /usr/local/lib/python3.11/dist-packages (from youtube-search-python) (0.23.0)\n",
            "Requirement already satisfied: certifi in /usr/local/lib/python3.11/dist-packages (from httpx>=0.14.2->youtube-search-python) (2025.1.31)\n",
            "Requirement already satisfied: sniffio in /usr/local/lib/python3.11/dist-packages (from httpx>=0.14.2->youtube-search-python) (1.3.1)\n",
            "Requirement already satisfied: rfc3986<2,>=1.3 in /usr/local/lib/python3.11/dist-packages (from rfc3986[idna2008]<2,>=1.3->httpx>=0.14.2->youtube-search-python) (1.5.0)\n",
            "Requirement already satisfied: httpcore<0.16.0,>=0.15.0 in /usr/local/lib/python3.11/dist-packages (from httpx>=0.14.2->youtube-search-python) (0.15.0)\n",
            "Requirement already satisfied: h11<0.13,>=0.11 in /usr/local/lib/python3.11/dist-packages (from httpcore<0.16.0,>=0.15.0->httpx>=0.14.2->youtube-search-python) (0.12.0)\n",
            "Requirement already satisfied: anyio==3.* in /usr/local/lib/python3.11/dist-packages (from httpcore<0.16.0,>=0.15.0->httpx>=0.14.2->youtube-search-python) (3.7.1)\n",
            "Requirement already satisfied: idna>=2.8 in /usr/local/lib/python3.11/dist-packages (from anyio==3.*->httpcore<0.16.0,>=0.15.0->httpx>=0.14.2->youtube-search-python) (3.10)\n",
            "Requirement already satisfied: youtube-transcript-api in /usr/local/lib/python3.11/dist-packages (1.0.3)\n",
            "Requirement already satisfied: defusedxml<0.8.0,>=0.7.1 in /usr/local/lib/python3.11/dist-packages (from youtube-transcript-api) (0.7.1)\n",
            "Requirement already satisfied: requests in /usr/local/lib/python3.11/dist-packages (from youtube-transcript-api) (2.32.3)\n",
            "Requirement already satisfied: charset-normalizer<4,>=2 in /usr/local/lib/python3.11/dist-packages (from requests->youtube-transcript-api) (3.4.1)\n",
            "Requirement already satisfied: idna<4,>=2.5 in /usr/local/lib/python3.11/dist-packages (from requests->youtube-transcript-api) (3.10)\n",
            "Requirement already satisfied: urllib3<3,>=1.21.1 in /usr/local/lib/python3.11/dist-packages (from requests->youtube-transcript-api) (2.3.0)\n",
            "Requirement already satisfied: certifi>=2017.4.17 in /usr/local/lib/python3.11/dist-packages (from requests->youtube-transcript-api) (2025.1.31)\n",
            "🔍 Recherche pour [mathematics] : mathematics\n",
            "❌ Impossible de récupérer la transcription pour c7rpPrjWzJA: \n",
            "Could not retrieve a transcript for the video https://www.youtube.com/watch?v=c7rpPrjWzJA! This is most likely caused by:\n",
            "\n",
            "Subtitles are disabled for this video\n",
            "\n",
            "If you are sure that the described cause is not responsible for this error and that a transcript should be retrievable, please create an issue at https://github.com/jdepoix/youtube-transcript-api/issues. Please add which version of youtube_transcript_api you are using and provide the information needed to replicate the error. Also make sure that there are no open issues which already describe your problem!\n",
            "🔍 Recherche pour [mathematics] : algebra\n",
            "🔍 Recherche pour [mathematics] : geometry\n",
            "❌ Impossible de récupérer la transcription pour i7uea4znqz0: \n",
            "Could not retrieve a transcript for the video https://www.youtube.com/watch?v=i7uea4znqz0! This is most likely caused by:\n",
            "\n",
            "Subtitles are disabled for this video\n",
            "\n",
            "If you are sure that the described cause is not responsible for this error and that a transcript should be retrievable, please create an issue at https://github.com/jdepoix/youtube-transcript-api/issues. Please add which version of youtube_transcript_api you are using and provide the information needed to replicate the error. Also make sure that there are no open issues which already describe your problem!\n",
            "🔍 Recherche pour [mathematics] : calculus\n",
            "🔍 Recherche pour [mathematics] : trigonometry\n",
            "🔍 Recherche pour [science] : physics\n",
            "🔍 Recherche pour [science] : chemistry\n",
            "❌ Impossible de récupérer la transcription pour oVJF9PiJQ28: \n",
            "Could not retrieve a transcript for the video https://www.youtube.com/watch?v=oVJF9PiJQ28! This is most likely caused by:\n",
            "\n",
            "Subtitles are disabled for this video\n",
            "\n",
            "If you are sure that the described cause is not responsible for this error and that a transcript should be retrievable, please create an issue at https://github.com/jdepoix/youtube-transcript-api/issues. Please add which version of youtube_transcript_api you are using and provide the information needed to replicate the error. Also make sure that there are no open issues which already describe your problem!\n",
            "🔍 Recherche pour [science] : biology\n",
            "🔍 Recherche pour [science] : science experiments\n",
            "🔍 Recherche pour [science] : geology\n",
            "🔍 Recherche pour [engineering] : mechanical engineering\n",
            "🔍 Recherche pour [engineering] : electrical circuits\n",
            "🔍 Recherche pour [engineering] : electronics\n",
            "❌ Impossible de récupérer la transcription pour tLkgOMoY5Aw: \n",
            "Could not retrieve a transcript for the video https://www.youtube.com/watch?v=tLkgOMoY5Aw! This is most likely caused by:\n",
            "\n",
            "Subtitles are disabled for this video\n",
            "\n",
            "If you are sure that the described cause is not responsible for this error and that a transcript should be retrievable, please create an issue at https://github.com/jdepoix/youtube-transcript-api/issues. Please add which version of youtube_transcript_api you are using and provide the information needed to replicate the error. Also make sure that there are no open issues which already describe your problem!\n",
            "❌ Impossible de récupérer la transcription pour XvpLlmkB9LU: \n",
            "Could not retrieve a transcript for the video https://www.youtube.com/watch?v=XvpLlmkB9LU! This is most likely caused by:\n",
            "\n",
            "Subtitles are disabled for this video\n",
            "\n",
            "If you are sure that the described cause is not responsible for this error and that a transcript should be retrievable, please create an issue at https://github.com/jdepoix/youtube-transcript-api/issues. Please add which version of youtube_transcript_api you are using and provide the information needed to replicate the error. Also make sure that there are no open issues which already describe your problem!\n",
            "🔍 Recherche pour [engineering] : microcontrollers\n",
            "❌ Impossible de récupérer la transcription pour dOa3570JM2M: \n",
            "Could not retrieve a transcript for the video https://www.youtube.com/watch?v=dOa3570JM2M! This is most likely caused by:\n",
            "\n",
            "Subtitles are disabled for this video\n",
            "\n",
            "If you are sure that the described cause is not responsible for this error and that a transcript should be retrievable, please create an issue at https://github.com/jdepoix/youtube-transcript-api/issues. Please add which version of youtube_transcript_api you are using and provide the information needed to replicate the error. Also make sure that there are no open issues which already describe your problem!\n",
            "🔍 Recherche pour [engineering] : fluid mechanics\n",
            "🔍 Recherche pour [technology] : computer science\n",
            "🔍 Recherche pour [technology] : artificial intelligence\n",
            "🔍 Recherche pour [technology] : machine learning\n",
            "🔍 Recherche pour [technology] : web development\n",
            "🔍 Recherche pour [technology] : blockchain\n",
            "✅ 25 vidéos enregistrées dans 'videos_mathematics.json'\n",
            "✅ 25 vidéos enregistrées dans 'videos_science.json'\n",
            "✅ 25 vidéos enregistrées dans 'videos_engineering.json'\n",
            "✅ 25 vidéos enregistrées dans 'videos_technology.json'\n"
          ]
        },
        {
          "output_type": "display_data",
          "data": {
            "text/plain": [
              "<IPython.core.display.Javascript object>"
            ],
            "application/javascript": [
              "\n",
              "    async function download(id, filename, size) {\n",
              "      if (!google.colab.kernel.accessAllowed) {\n",
              "        return;\n",
              "      }\n",
              "      const div = document.createElement('div');\n",
              "      const label = document.createElement('label');\n",
              "      label.textContent = `Downloading \"${filename}\": `;\n",
              "      div.appendChild(label);\n",
              "      const progress = document.createElement('progress');\n",
              "      progress.max = size;\n",
              "      div.appendChild(progress);\n",
              "      document.body.appendChild(div);\n",
              "\n",
              "      const buffers = [];\n",
              "      let downloaded = 0;\n",
              "\n",
              "      const channel = await google.colab.kernel.comms.open(id);\n",
              "      // Send a message to notify the kernel that we're ready.\n",
              "      channel.send({})\n",
              "\n",
              "      for await (const message of channel.messages) {\n",
              "        // Send a message to notify the kernel that we're ready.\n",
              "        channel.send({})\n",
              "        if (message.buffers) {\n",
              "          for (const buffer of message.buffers) {\n",
              "            buffers.push(buffer);\n",
              "            downloaded += buffer.byteLength;\n",
              "            progress.value = downloaded;\n",
              "          }\n",
              "        }\n",
              "      }\n",
              "      const blob = new Blob(buffers, {type: 'application/binary'});\n",
              "      const a = document.createElement('a');\n",
              "      a.href = window.URL.createObjectURL(blob);\n",
              "      a.download = filename;\n",
              "      div.appendChild(a);\n",
              "      a.click();\n",
              "      div.remove();\n",
              "    }\n",
              "  "
            ]
          },
          "metadata": {}
        },
        {
          "output_type": "display_data",
          "data": {
            "text/plain": [
              "<IPython.core.display.Javascript object>"
            ],
            "application/javascript": [
              "download(\"download_ede0ec3c-24e3-4740-9930-e5e0b10f58cd\", \"videos_mathematics.json\", 4600487)"
            ]
          },
          "metadata": {}
        },
        {
          "output_type": "display_data",
          "data": {
            "text/plain": [
              "<IPython.core.display.Javascript object>"
            ],
            "application/javascript": [
              "\n",
              "    async function download(id, filename, size) {\n",
              "      if (!google.colab.kernel.accessAllowed) {\n",
              "        return;\n",
              "      }\n",
              "      const div = document.createElement('div');\n",
              "      const label = document.createElement('label');\n",
              "      label.textContent = `Downloading \"${filename}\": `;\n",
              "      div.appendChild(label);\n",
              "      const progress = document.createElement('progress');\n",
              "      progress.max = size;\n",
              "      div.appendChild(progress);\n",
              "      document.body.appendChild(div);\n",
              "\n",
              "      const buffers = [];\n",
              "      let downloaded = 0;\n",
              "\n",
              "      const channel = await google.colab.kernel.comms.open(id);\n",
              "      // Send a message to notify the kernel that we're ready.\n",
              "      channel.send({})\n",
              "\n",
              "      for await (const message of channel.messages) {\n",
              "        // Send a message to notify the kernel that we're ready.\n",
              "        channel.send({})\n",
              "        if (message.buffers) {\n",
              "          for (const buffer of message.buffers) {\n",
              "            buffers.push(buffer);\n",
              "            downloaded += buffer.byteLength;\n",
              "            progress.value = downloaded;\n",
              "          }\n",
              "        }\n",
              "      }\n",
              "      const blob = new Blob(buffers, {type: 'application/binary'});\n",
              "      const a = document.createElement('a');\n",
              "      a.href = window.URL.createObjectURL(blob);\n",
              "      a.download = filename;\n",
              "      div.appendChild(a);\n",
              "      a.click();\n",
              "      div.remove();\n",
              "    }\n",
              "  "
            ]
          },
          "metadata": {}
        },
        {
          "output_type": "display_data",
          "data": {
            "text/plain": [
              "<IPython.core.display.Javascript object>"
            ],
            "application/javascript": [
              "download(\"download_2f0180ba-bf80-46ae-8f8c-97b1c80d8876\", \"videos_science.json\", 985293)"
            ]
          },
          "metadata": {}
        },
        {
          "output_type": "display_data",
          "data": {
            "text/plain": [
              "<IPython.core.display.Javascript object>"
            ],
            "application/javascript": [
              "\n",
              "    async function download(id, filename, size) {\n",
              "      if (!google.colab.kernel.accessAllowed) {\n",
              "        return;\n",
              "      }\n",
              "      const div = document.createElement('div');\n",
              "      const label = document.createElement('label');\n",
              "      label.textContent = `Downloading \"${filename}\": `;\n",
              "      div.appendChild(label);\n",
              "      const progress = document.createElement('progress');\n",
              "      progress.max = size;\n",
              "      div.appendChild(progress);\n",
              "      document.body.appendChild(div);\n",
              "\n",
              "      const buffers = [];\n",
              "      let downloaded = 0;\n",
              "\n",
              "      const channel = await google.colab.kernel.comms.open(id);\n",
              "      // Send a message to notify the kernel that we're ready.\n",
              "      channel.send({})\n",
              "\n",
              "      for await (const message of channel.messages) {\n",
              "        // Send a message to notify the kernel that we're ready.\n",
              "        channel.send({})\n",
              "        if (message.buffers) {\n",
              "          for (const buffer of message.buffers) {\n",
              "            buffers.push(buffer);\n",
              "            downloaded += buffer.byteLength;\n",
              "            progress.value = downloaded;\n",
              "          }\n",
              "        }\n",
              "      }\n",
              "      const blob = new Blob(buffers, {type: 'application/binary'});\n",
              "      const a = document.createElement('a');\n",
              "      a.href = window.URL.createObjectURL(blob);\n",
              "      a.download = filename;\n",
              "      div.appendChild(a);\n",
              "      a.click();\n",
              "      div.remove();\n",
              "    }\n",
              "  "
            ]
          },
          "metadata": {}
        },
        {
          "output_type": "display_data",
          "data": {
            "text/plain": [
              "<IPython.core.display.Javascript object>"
            ],
            "application/javascript": [
              "download(\"download_5c2546db-1547-4a50-97bf-917dab16dbee\", \"videos_engineering.json\", 377494)"
            ]
          },
          "metadata": {}
        },
        {
          "output_type": "display_data",
          "data": {
            "text/plain": [
              "<IPython.core.display.Javascript object>"
            ],
            "application/javascript": [
              "\n",
              "    async function download(id, filename, size) {\n",
              "      if (!google.colab.kernel.accessAllowed) {\n",
              "        return;\n",
              "      }\n",
              "      const div = document.createElement('div');\n",
              "      const label = document.createElement('label');\n",
              "      label.textContent = `Downloading \"${filename}\": `;\n",
              "      div.appendChild(label);\n",
              "      const progress = document.createElement('progress');\n",
              "      progress.max = size;\n",
              "      div.appendChild(progress);\n",
              "      document.body.appendChild(div);\n",
              "\n",
              "      const buffers = [];\n",
              "      let downloaded = 0;\n",
              "\n",
              "      const channel = await google.colab.kernel.comms.open(id);\n",
              "      // Send a message to notify the kernel that we're ready.\n",
              "      channel.send({})\n",
              "\n",
              "      for await (const message of channel.messages) {\n",
              "        // Send a message to notify the kernel that we're ready.\n",
              "        channel.send({})\n",
              "        if (message.buffers) {\n",
              "          for (const buffer of message.buffers) {\n",
              "            buffers.push(buffer);\n",
              "            downloaded += buffer.byteLength;\n",
              "            progress.value = downloaded;\n",
              "          }\n",
              "        }\n",
              "      }\n",
              "      const blob = new Blob(buffers, {type: 'application/binary'});\n",
              "      const a = document.createElement('a');\n",
              "      a.href = window.URL.createObjectURL(blob);\n",
              "      a.download = filename;\n",
              "      div.appendChild(a);\n",
              "      a.click();\n",
              "      div.remove();\n",
              "    }\n",
              "  "
            ]
          },
          "metadata": {}
        },
        {
          "output_type": "display_data",
          "data": {
            "text/plain": [
              "<IPython.core.display.Javascript object>"
            ],
            "application/javascript": [
              "download(\"download_6978c18e-51e3-43ec-aff9-e3820f649752\", \"videos_technology.json\", 3384824)"
            ]
          },
          "metadata": {}
        }
      ],
      "source": [
        "!pip uninstall httpx -y\n",
        "!pip install httpx==0.23.0\n",
        "!pip install youtube-search-python\n",
        "!pip install youtube-transcript-api\n",
        "\n",
        "from youtubesearchpython import VideosSearch\n",
        "from youtube_transcript_api import YouTubeTranscriptApi\n",
        "import json\n",
        "import uuid\n",
        "\n",
        "def get_video_id(url):\n",
        "    # Extraire l'ID de la vidéo à partir de l'URL YouTube\n",
        "    if 'youtube.com/watch?v=' in url:\n",
        "        return url.split('youtube.com/watch?v=')[1].split('&')[0]\n",
        "    elif 'youtu.be/' in url:\n",
        "        return url.split('youtu.be/')[1].split('?')[0]\n",
        "    return None\n",
        "\n",
        "def get_transcript(video_id):\n",
        "    try:\n",
        "        transcript = YouTubeTranscriptApi.get_transcript(video_id)\n",
        "        return ' '.join([entry['text'] for entry in transcript])\n",
        "    except Exception as e:\n",
        "        print(f\"❌ Impossible de récupérer la transcription pour {video_id}: {e}\")\n",
        "        return None\n",
        "\n",
        "def collecter_videos_multiples(domaine, mots_cles, videos_par_mot=5):\n",
        "    videos_total = []\n",
        "    urls_vues = set()\n",
        "\n",
        "    for mot in mots_cles:\n",
        "        print(f\"🔍 Recherche pour [{domaine}] : {mot}\")\n",
        "        search = VideosSearch(mot, limit=videos_par_mot)\n",
        "        resultats = search.result()['result']\n",
        "\n",
        "        for v in resultats:\n",
        "            url = v.get(\"link\")\n",
        "            if url not in urls_vues:\n",
        "                video_id = get_video_id(url)\n",
        "                transcription = get_transcript(video_id) if video_id else None\n",
        "\n",
        "                video = {\n",
        "                    \"id\": str(uuid.uuid4()),\n",
        "                    \"type\": \"video\",\n",
        "                    \"domaine\": domaine,\n",
        "                    \"titre\": v.get(\"title\"),\n",
        "                    \"url\": url,\n",
        "                    \"description\": v.get(\"descriptionSnippet\", [{}])[0].get(\"text\", \"\") if v.get(\"descriptionSnippet\") else \"\",\n",
        "                    \"chaine\": v.get(\"channel\", {}).get(\"name\"),\n",
        "                    \"durée\": v.get(\"duration\"),\n",
        "                    \"keywords\": v.get(\"title\").lower().split()[:5],\n",
        "                    \"transcription\": transcription\n",
        "                }\n",
        "                videos_total.append(video)\n",
        "                urls_vues.add(url)\n",
        "\n",
        "    return videos_total\n",
        "\n",
        "# 🔢 Mots-clés par domaine\n",
        "mots_cles_math = [\"mathematics\", \"algebra\", \"geometry\", \"calculus\", \"trigonometry\"]\n",
        "mots_cles_science = [\"physics\", \"chemistry\", \"biology\", \"science experiments\", \"geology\"]\n",
        "mots_cles_eng = [\"mechanical engineering\", \"electrical circuits\", \"electronics\", \"microcontrollers\", \"fluid mechanics\"]\n",
        "mots_cles_tech = [\"computer science\", \"artificial intelligence\", \"machine learning\", \"web development\", \"blockchain\"]\n",
        "\n",
        "# 📥 Collecte\n",
        "videos_math = collecter_videos_multiples(\"mathematics\", mots_cles_math)\n",
        "videos_science = collecter_videos_multiples(\"science\", mots_cles_science)\n",
        "videos_eng = collecter_videos_multiples(\"engineering\", mots_cles_eng)\n",
        "videos_tech = collecter_videos_multiples(\"technology\", mots_cles_tech)\n",
        "\n",
        "# 💾 Sauvegarde\n",
        "with open(\"videos_mathematics.json\", \"w\", encoding=\"utf-8\") as f:\n",
        "    json.dump(videos_math, f, indent=2, ensure_ascii=False)\n",
        "\n",
        "with open(\"videos_science.json\", \"w\", encoding=\"utf-8\") as f:\n",
        "    json.dump(videos_science, f, indent=2, ensure_ascii=False)\n",
        "\n",
        "with open(\"videos_engineering.json\", \"w\", encoding=\"utf-8\") as f:\n",
        "    json.dump(videos_eng, f, indent=2, ensure_ascii=False)\n",
        "\n",
        "with open(\"videos_technology.json\", \"w\", encoding=\"utf-8\") as f:\n",
        "    json.dump(videos_tech, f, indent=2, ensure_ascii=False)\n",
        "\n",
        "# ✅ Confirmation\n",
        "print(f\"✅ {len(videos_math)} vidéos enregistrées dans 'videos_mathematics.json'\")\n",
        "print(f\"✅ {len(videos_science)} vidéos enregistrées dans 'videos_science.json'\")\n",
        "print(f\"✅ {len(videos_eng)} vidéos enregistrées dans 'videos_engineering.json'\")\n",
        "print(f\"✅ {len(videos_tech)} vidéos enregistrées dans 'videos_technology.json'\")\n",
        "\n",
        "# Téléchargement des fichiers\n",
        "from google.colab import files\n",
        "files.download(\"videos_mathematics.json\")\n",
        "files.download(\"videos_science.json\")\n",
        "files.download(\"videos_engineering.json\")\n",
        "files.download(\"videos_technology.json\")"
      ]
    },
    {
      "cell_type": "code",
      "source": [
        "from google.colab import files\n",
        "import json\n",
        "\n",
        "# Sauvegarder les vidéos dans des fichiers JSON (au cas où vous auriez besoin de le refaire)\n",
        "with open(\"videos_mathematics.json\", \"w\", encoding=\"utf-8\") as f:\n",
        "    json.dump(videos_math, f, indent=2, ensure_ascii=False)\n",
        "\n",
        "with open(\"videos_science.json\", \"w\", encoding=\"utf-8\") as f:\n",
        "    json.dump(videos_science, f, indent=2, ensure_ascii=False)\n",
        "\n",
        "with open(\"videos_engineering.json\", \"w\", encoding=\"utf-8\") as f:\n",
        "    json.dump(videos_eng, f, indent=2, ensure_ascii=False)\n",
        "\n",
        "with open(\"videos_technology.json\", \"w\", encoding=\"utf-8\") as f:\n",
        "    json.dump(videos_tech, f, indent=2, ensure_ascii=False)\n",
        "\n",
        "# Télécharger les fichiers\n",
        "files.download(\"videos_mathematics.json\")\n",
        "files.download(\"videos_science.json\")\n",
        "files.download(\"videos_engineering.json\")\n",
        "files.download(\"videos_technology.json\")\n",
        "\n",
        "print(\"Téléchargement des fichiers JSON terminé!\")"
      ],
      "metadata": {
        "colab": {
          "base_uri": "https://localhost:8080/",
          "height": 34
        },
        "id": "XBatAiCulatt",
        "outputId": "c9da7a1c-3ba1-40d4-fafb-a155e5e54b30"
      },
      "execution_count": 2,
      "outputs": [
        {
          "output_type": "display_data",
          "data": {
            "text/plain": [
              "<IPython.core.display.Javascript object>"
            ],
            "application/javascript": [
              "\n",
              "    async function download(id, filename, size) {\n",
              "      if (!google.colab.kernel.accessAllowed) {\n",
              "        return;\n",
              "      }\n",
              "      const div = document.createElement('div');\n",
              "      const label = document.createElement('label');\n",
              "      label.textContent = `Downloading \"${filename}\": `;\n",
              "      div.appendChild(label);\n",
              "      const progress = document.createElement('progress');\n",
              "      progress.max = size;\n",
              "      div.appendChild(progress);\n",
              "      document.body.appendChild(div);\n",
              "\n",
              "      const buffers = [];\n",
              "      let downloaded = 0;\n",
              "\n",
              "      const channel = await google.colab.kernel.comms.open(id);\n",
              "      // Send a message to notify the kernel that we're ready.\n",
              "      channel.send({})\n",
              "\n",
              "      for await (const message of channel.messages) {\n",
              "        // Send a message to notify the kernel that we're ready.\n",
              "        channel.send({})\n",
              "        if (message.buffers) {\n",
              "          for (const buffer of message.buffers) {\n",
              "            buffers.push(buffer);\n",
              "            downloaded += buffer.byteLength;\n",
              "            progress.value = downloaded;\n",
              "          }\n",
              "        }\n",
              "      }\n",
              "      const blob = new Blob(buffers, {type: 'application/binary'});\n",
              "      const a = document.createElement('a');\n",
              "      a.href = window.URL.createObjectURL(blob);\n",
              "      a.download = filename;\n",
              "      div.appendChild(a);\n",
              "      a.click();\n",
              "      div.remove();\n",
              "    }\n",
              "  "
            ]
          },
          "metadata": {}
        },
        {
          "output_type": "display_data",
          "data": {
            "text/plain": [
              "<IPython.core.display.Javascript object>"
            ],
            "application/javascript": [
              "download(\"download_ddf1ab22-ad41-48ff-8b75-7672e15872dc\", \"videos_mathematics.json\", 4600487)"
            ]
          },
          "metadata": {}
        },
        {
          "output_type": "display_data",
          "data": {
            "text/plain": [
              "<IPython.core.display.Javascript object>"
            ],
            "application/javascript": [
              "\n",
              "    async function download(id, filename, size) {\n",
              "      if (!google.colab.kernel.accessAllowed) {\n",
              "        return;\n",
              "      }\n",
              "      const div = document.createElement('div');\n",
              "      const label = document.createElement('label');\n",
              "      label.textContent = `Downloading \"${filename}\": `;\n",
              "      div.appendChild(label);\n",
              "      const progress = document.createElement('progress');\n",
              "      progress.max = size;\n",
              "      div.appendChild(progress);\n",
              "      document.body.appendChild(div);\n",
              "\n",
              "      const buffers = [];\n",
              "      let downloaded = 0;\n",
              "\n",
              "      const channel = await google.colab.kernel.comms.open(id);\n",
              "      // Send a message to notify the kernel that we're ready.\n",
              "      channel.send({})\n",
              "\n",
              "      for await (const message of channel.messages) {\n",
              "        // Send a message to notify the kernel that we're ready.\n",
              "        channel.send({})\n",
              "        if (message.buffers) {\n",
              "          for (const buffer of message.buffers) {\n",
              "            buffers.push(buffer);\n",
              "            downloaded += buffer.byteLength;\n",
              "            progress.value = downloaded;\n",
              "          }\n",
              "        }\n",
              "      }\n",
              "      const blob = new Blob(buffers, {type: 'application/binary'});\n",
              "      const a = document.createElement('a');\n",
              "      a.href = window.URL.createObjectURL(blob);\n",
              "      a.download = filename;\n",
              "      div.appendChild(a);\n",
              "      a.click();\n",
              "      div.remove();\n",
              "    }\n",
              "  "
            ]
          },
          "metadata": {}
        },
        {
          "output_type": "display_data",
          "data": {
            "text/plain": [
              "<IPython.core.display.Javascript object>"
            ],
            "application/javascript": [
              "download(\"download_e95cd27d-dbb6-41a7-874d-8888694853ed\", \"videos_science.json\", 985293)"
            ]
          },
          "metadata": {}
        },
        {
          "output_type": "display_data",
          "data": {
            "text/plain": [
              "<IPython.core.display.Javascript object>"
            ],
            "application/javascript": [
              "\n",
              "    async function download(id, filename, size) {\n",
              "      if (!google.colab.kernel.accessAllowed) {\n",
              "        return;\n",
              "      }\n",
              "      const div = document.createElement('div');\n",
              "      const label = document.createElement('label');\n",
              "      label.textContent = `Downloading \"${filename}\": `;\n",
              "      div.appendChild(label);\n",
              "      const progress = document.createElement('progress');\n",
              "      progress.max = size;\n",
              "      div.appendChild(progress);\n",
              "      document.body.appendChild(div);\n",
              "\n",
              "      const buffers = [];\n",
              "      let downloaded = 0;\n",
              "\n",
              "      const channel = await google.colab.kernel.comms.open(id);\n",
              "      // Send a message to notify the kernel that we're ready.\n",
              "      channel.send({})\n",
              "\n",
              "      for await (const message of channel.messages) {\n",
              "        // Send a message to notify the kernel that we're ready.\n",
              "        channel.send({})\n",
              "        if (message.buffers) {\n",
              "          for (const buffer of message.buffers) {\n",
              "            buffers.push(buffer);\n",
              "            downloaded += buffer.byteLength;\n",
              "            progress.value = downloaded;\n",
              "          }\n",
              "        }\n",
              "      }\n",
              "      const blob = new Blob(buffers, {type: 'application/binary'});\n",
              "      const a = document.createElement('a');\n",
              "      a.href = window.URL.createObjectURL(blob);\n",
              "      a.download = filename;\n",
              "      div.appendChild(a);\n",
              "      a.click();\n",
              "      div.remove();\n",
              "    }\n",
              "  "
            ]
          },
          "metadata": {}
        },
        {
          "output_type": "display_data",
          "data": {
            "text/plain": [
              "<IPython.core.display.Javascript object>"
            ],
            "application/javascript": [
              "download(\"download_3c451ec0-3e14-4740-8b98-e57592018894\", \"videos_engineering.json\", 377494)"
            ]
          },
          "metadata": {}
        },
        {
          "output_type": "display_data",
          "data": {
            "text/plain": [
              "<IPython.core.display.Javascript object>"
            ],
            "application/javascript": [
              "\n",
              "    async function download(id, filename, size) {\n",
              "      if (!google.colab.kernel.accessAllowed) {\n",
              "        return;\n",
              "      }\n",
              "      const div = document.createElement('div');\n",
              "      const label = document.createElement('label');\n",
              "      label.textContent = `Downloading \"${filename}\": `;\n",
              "      div.appendChild(label);\n",
              "      const progress = document.createElement('progress');\n",
              "      progress.max = size;\n",
              "      div.appendChild(progress);\n",
              "      document.body.appendChild(div);\n",
              "\n",
              "      const buffers = [];\n",
              "      let downloaded = 0;\n",
              "\n",
              "      const channel = await google.colab.kernel.comms.open(id);\n",
              "      // Send a message to notify the kernel that we're ready.\n",
              "      channel.send({})\n",
              "\n",
              "      for await (const message of channel.messages) {\n",
              "        // Send a message to notify the kernel that we're ready.\n",
              "        channel.send({})\n",
              "        if (message.buffers) {\n",
              "          for (const buffer of message.buffers) {\n",
              "            buffers.push(buffer);\n",
              "            downloaded += buffer.byteLength;\n",
              "            progress.value = downloaded;\n",
              "          }\n",
              "        }\n",
              "      }\n",
              "      const blob = new Blob(buffers, {type: 'application/binary'});\n",
              "      const a = document.createElement('a');\n",
              "      a.href = window.URL.createObjectURL(blob);\n",
              "      a.download = filename;\n",
              "      div.appendChild(a);\n",
              "      a.click();\n",
              "      div.remove();\n",
              "    }\n",
              "  "
            ]
          },
          "metadata": {}
        },
        {
          "output_type": "display_data",
          "data": {
            "text/plain": [
              "<IPython.core.display.Javascript object>"
            ],
            "application/javascript": [
              "download(\"download_ca90bfbe-5bab-4bc9-a585-663a7764a204\", \"videos_technology.json\", 3384824)"
            ]
          },
          "metadata": {}
        },
        {
          "output_type": "stream",
          "name": "stdout",
          "text": [
            "Téléchargement des fichiers JSON terminé!\n"
          ]
        }
      ]
    }
  ]
}